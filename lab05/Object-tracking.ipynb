{
 "cells": [
  {
   "cell_type": "code",
   "execution_count": 1,
   "metadata": {},
   "outputs": [],
   "source": [
    "import cv2\n",
    "import cvlib\n",
    "from cvlib.object_detection import draw_bbox\n",
    "import matplotlib.pyplot as plt\n",
    "from SimpleObjectTracking import CentroidTracker\n",
    "from tqdm import tqdm"
   ]
  },
  {
   "cell_type": "code",
   "execution_count": 2,
   "metadata": {},
   "outputs": [],
   "source": [
    "def get_video_as_frames(video_path):\n",
    "    cap = cv2.VideoCapture(video_path)\n",
    "    if cap is None:\n",
    "        print('Video not found')\n",
    "        return None\n",
    "    \n",
    "    frames = []\n",
    "    while True:\n",
    "        ret, frame = cap.read()\n",
    "        if not ret:\n",
    "            break\n",
    "        frames.append(frame)\n",
    "\n",
    "    return frames"
   ]
  },
  {
   "cell_type": "code",
   "execution_count": 3,
   "metadata": {},
   "outputs": [],
   "source": [
    "def get_bottles(frame, confidence=0.2):\n",
    "    bbox, label, conf = cvlib.detect_common_objects(frame, confidence=confidence, model='yolov4')\n",
    "\n",
    "    bottle_bbox = []\n",
    "    bottle_label = []\n",
    "    bottle_conf = []\n",
    "\n",
    "    for i in range(len(label)):\n",
    "        if label[i] == 'bottle':\n",
    "            bottle_bbox.append(bbox[i])\n",
    "            bottle_label.append(label[i])\n",
    "            bottle_conf.append(conf[i])\n",
    "\n",
    "    return bottle_bbox, bottle_label, bottle_conf"
   ]
  },
  {
   "cell_type": "code",
   "execution_count": 4,
   "metadata": {},
   "outputs": [],
   "source": [
    "def detect_bottles(frame, ct, confidence=0.2, show=False):\n",
    "    bbox, label, conf = get_bottles(frame, confidence=confidence)\n",
    "    output_frame = draw_bbox(frame, bbox, label, conf)\n",
    "\n",
    "    objects = ct.update(bbox)\n",
    "    for (objectID, centroid) in objects.items():\n",
    "        text = \"{}\".format(objectID)\n",
    "        cv2.putText(output_frame, text, (centroid[0] - 10, centroid[1] - 10), cv2.FONT_HERSHEY_SIMPLEX, 0.5, (0, 255, 0), 2)\n",
    "        cv2.circle(output_frame, (centroid[0], centroid[1]), 4, (0, 255, 0), -1)\n",
    "\n",
    "    if show:\n",
    "        plt.imshow(output_frame)\n",
    "        plt.show()\n",
    "\n",
    "    return output_frame\n",
    "    "
   ]
  },
  {
   "cell_type": "code",
   "execution_count": 5,
   "metadata": {},
   "outputs": [],
   "source": [
    "def count_bottles(input_video_path, output_video_name=None, confidence=0.2, max_disappeared=200):\n",
    "    frames = get_video_as_frames(input_video_path)\n",
    "    if frames is None:\n",
    "        return None\n",
    "    \n",
    "    if output_video_name is not None:\n",
    "        video = cv2.VideoWriter(output_video_name, cv2.VideoWriter_fourcc(*'mp4v'), 10, (frames[0].shape[1], frames[0].shape[0]))\n",
    "\n",
    "    ct = CentroidTracker(maxDisappeared=max_disappeared)\n",
    "    for frame in tqdm(frames, desc='Processing frames'):\n",
    "        output_frame = detect_bottles(frame, ct, confidence=confidence, show=False)\n",
    "        if output_video_name is not None:\n",
    "            video.write(output_frame)\n",
    "\n",
    "    if output_video_name is not None:\n",
    "        video.release()\n",
    "\n",
    "    print(f'Number of bottles counted: {ct.object_count()}')"
   ]
  },
  {
   "cell_type": "code",
   "execution_count": 6,
   "metadata": {},
   "outputs": [
    {
     "name": "stderr",
     "output_type": "stream",
     "text": [
      "Processing frames: 100%|██████████| 169/169 [00:24<00:00,  6.82it/s]"
     ]
    },
    {
     "name": "stdout",
     "output_type": "stream",
     "text": [
      "Number of bottles counted: 7\n"
     ]
    },
    {
     "name": "stderr",
     "output_type": "stream",
     "text": [
      "\n"
     ]
    }
   ],
   "source": [
    "count_bottles('video/output.mp4', 'counted.mp4', confidence=0.2, max_disappeared=200)"
   ]
  }
 ],
 "metadata": {
  "kernelspec": {
   "display_name": "iaa",
   "language": "python",
   "name": "python3"
  },
  "language_info": {
   "codemirror_mode": {
    "name": "ipython",
    "version": 3
   },
   "file_extension": ".py",
   "mimetype": "text/x-python",
   "name": "python",
   "nbconvert_exporter": "python",
   "pygments_lexer": "ipython3",
   "version": "3.11.9"
  }
 },
 "nbformat": 4,
 "nbformat_minor": 2
}
